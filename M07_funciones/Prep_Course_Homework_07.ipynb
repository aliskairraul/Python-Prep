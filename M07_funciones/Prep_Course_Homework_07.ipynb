{
 "cells": [
  {
   "attachments": {},
   "cell_type": "markdown",
   "metadata": {},
   "source": [
    "## Funciones"
   ]
  },
  {
   "attachments": {},
   "cell_type": "markdown",
   "metadata": {},
   "source": [
    "1) Crear una función que reciba un número como parámetro y devuelva True si es primo y False si no lo es"
   ]
  },
  {
   "cell_type": "code",
   "execution_count": 6,
   "metadata": {},
   "outputs": [],
   "source": [
    "'''Numero Primo: Debe ser entero positivo, y solo permitir la division exacta por 1 y por si mismo\n",
    "   Entonces 1,2,3 son Primos. Si el numero es mayor a 3, evaluar que no sea multiplo de 2, ni 3, \n",
    "   y se tendra la certeza de que es primo'''\n",
    "\n",
    "\n",
    "def es_primo(n:int) -> bool:\n",
    "    '''es_primo: recibe como parametro un numero \"n\" y retorna True si es primo y False si no lo es'''\n",
    "    if n in [1,2,3]: return True\n",
    "    if n%2!=0 and n%3!=0: return True\n",
    "    return False"
   ]
  },
  {
   "cell_type": "code",
   "execution_count": 9,
   "metadata": {},
   "outputs": [
    {
     "name": "stdout",
     "output_type": "stream",
     "text": [
      "True\n",
      "False\n",
      "True\n",
      "False\n",
      "True\n"
     ]
    }
   ],
   "source": [
    "print(es_primo(5))\n",
    "print(es_primo(6))\n",
    "print(es_primo(23))\n",
    "print(es_primo(189))\n",
    "print(es_primo(199))"
   ]
  },
  {
   "attachments": {},
   "cell_type": "markdown",
   "metadata": {},
   "source": [
    "2) Utilizando la función del punto 1, realizar otra función que reciba de parámetro una lista de números y devuelva sólo aquellos que son primos en otra lista"
   ]
  },
  {
   "cell_type": "code",
   "execution_count": 8,
   "metadata": {},
   "outputs": [
    {
     "name": "stdout",
     "output_type": "stream",
     "text": [
      "[2, 677, 667, 23, 5, 1, 89, 65]\n"
     ]
    }
   ],
   "source": [
    "'''devuelve_primos en una funcion lambda que recibe una lista como parametro y en su expresion\n",
    "   aplica una compresion de listas para filtrar solo los elementos de la lista que son primos\n",
    "   apoyandose en la funcion del punto 1'''\n",
    "\n",
    "lista = [2,34,677,87,934,667,23,5,1,89,9,65,34]  \n",
    "devuelve_primos = lambda lista:[numero for numero in lista if es_primo(numero)]\n",
    "\n",
    "lista_solo_primos = devuelve_primos(lista)\n",
    "print(lista_solo_primos)"
   ]
  },
  {
   "attachments": {},
   "cell_type": "markdown",
   "metadata": {},
   "source": [
    "3) Crear una función que al recibir una lista de números, devuelva el que más se repite y cuántas veces lo hace. Si hay más de un \"más repetido\", que devuelva cualquiera"
   ]
  },
  {
   "cell_type": "code",
   "execution_count": 32,
   "metadata": {},
   "outputs": [
    {
     "name": "stdout",
     "output_type": "stream",
     "text": [
      "El numero que mas se repite es 5 y se repite 3 veces\n"
     ]
    }
   ],
   "source": [
    "lista = [2,3,4,5,2,4,5,6,5]\n",
    "diccionario ={}\n",
    "#Itero toda la lista y genero una clave por cada numero, colocando en el valor asociado a cada clave  \n",
    "#las veces que se repite cada numero\n",
    "for elemento in lista:\n",
    "    if elemento in diccionario:\n",
    "        diccionario[elemento] += 1\n",
    "    else:\n",
    "        diccionario[elemento] = 1\n",
    "\n",
    "#En la variable repetido_mas se guarda la clave del diccionario cuyo valor sea mayor, osea el numero que mas se repite\n",
    "repetido_mas = 0\n",
    "#En la variable veces se guardan las veces que se repite el numero mayor, es decir el valor en el diccionario\n",
    "veces = 0\n",
    "#Itero el diccionario para ver que numero se repite mas\n",
    "for clave in diccionario:\n",
    "    if diccionario[clave] > veces:\n",
    "        veces = diccionario[clave]\n",
    "        repetido_mas = clave\n",
    "\n",
    "print(f'El numero que mas se repite es {repetido_mas} y se repite {veces} veces')"
   ]
  },
  {
   "attachments": {},
   "cell_type": "markdown",
   "metadata": {},
   "source": [
    "4) Crear una función que convierta entre grados Celsius, Farenheit y Kelvin<br>\n",
    "Fórmula 1\t: (°C × 9/5) + 32 = °F<br>\n",
    "Fórmula 2\t: °C + 273.15 = °K<br>\n",
    "Debe recibir 3 parámetros: el valor, la medida de orígen y la medida de destino\n"
   ]
  },
  {
   "cell_type": "code",
   "execution_count": 17,
   "metadata": {},
   "outputs": [],
   "source": [
    "def conversor_grados(valor:float, origen:str, destino:str) -> float:\n",
    "    '''conversor_grados: convierte de un valor de grados a otro\n",
    "       valor: valor a convertir tipo numerico\n",
    "       origen, destino:String =  'C', 'F', 'k': donde C=Celsius, F=Farenheit, K=Kelvin'''\n",
    "    \n",
    "    if origen == destino: return valor\n",
    "    if origen == 'C' and destino == 'F': return (valor * 9 / 5) + 32\n",
    "    if origen == 'C' and destino == 'K': return (valor + 273.15)\n",
    "    if origen == 'F' and destino == 'C': return (valor - 32) * 5 / 9\n",
    "    if origen == 'F' and destino == 'K': return ((valor - 32) * 5 / 9) + 273.15\n",
    "    if origen == 'K' and destino == 'C': return (valor - 273.15)\n",
    "    if origen == 'K' and destino == 'F': return ((valor - 273.15) * 9 / 5) + 32"
   ]
  },
  {
   "attachments": {},
   "cell_type": "markdown",
   "metadata": {},
   "source": [
    "5) Iterando una lista con los tres valores posibles de temperatura que recibe la función del punto 5, hacer un print para cada combinación de los mismos:"
   ]
  },
  {
   "cell_type": "code",
   "execution_count": 29,
   "metadata": {},
   "outputs": [
    {
     "name": "stdout",
     "output_type": "stream",
     "text": [
      "========================================\n",
      "C ===>  C\n",
      "1\n",
      "========================================\n",
      "C ===>  F\n",
      "33.8\n",
      "========================================\n",
      "C ===>  K\n",
      "274.15\n",
      "========================================\n",
      "F ===>  C\n",
      "-17.22222222222222\n",
      "========================================\n",
      "F ===>  F\n",
      "1\n",
      "========================================\n",
      "F ===>  K\n",
      "255.92777777777775\n",
      "========================================\n",
      "K ===>  C\n",
      "-272.15\n",
      "========================================\n",
      "K ===>  F\n",
      "-457.87\n",
      "========================================\n",
      "K ===>  K\n",
      "1\n"
     ]
    }
   ],
   "source": [
    "lista = ['C','F','K']\n",
    "for i in range(len(lista)):\n",
    "    for j in range(len(lista)):\n",
    "        print('='*40)\n",
    "        print(f'{lista[i]} ===>  {lista[j]}')\n",
    "        print(conversor_grados(1,lista[i],lista[j]))"
   ]
  },
  {
   "attachments": {},
   "cell_type": "markdown",
   "metadata": {},
   "source": [
    "6) Armar una función que devuelva el factorial de un número. Tener en cuenta que el usuario puede equivocarse y enviar de parámetro un número no entero o negativo"
   ]
  },
  {
   "cell_type": "code",
   "execution_count": 19,
   "metadata": {},
   "outputs": [],
   "source": [
    "def factorial(n:int)->int:\n",
    "    '''factorial: calcula el factorial de un numero y lo retorna\n",
    "        n: entero positivo'''\n",
    "    fact = 1\n",
    "    if n > 0:\n",
    "        for i in range(n, 0, -1):\n",
    "            fact = fact * i\n",
    "\n",
    "    return fact"
   ]
  },
  {
   "cell_type": "code",
   "execution_count": 28,
   "metadata": {},
   "outputs": [
    {
     "name": "stdout",
     "output_type": "stream",
     "text": [
      "120\n"
     ]
    }
   ],
   "source": [
    "''' Parte del codigo que capta el numero introducido por el Usuario y llama a la funcion factorial'''\n",
    "n:int\n",
    "capto_entero = False\n",
    "try:\n",
    "    n = int(input('Escriba un numero: '))\n",
    "    capto_entero = True\n",
    "except:\n",
    "    print('Debe ser un numero entero')\n",
    "if capto_entero:\n",
    "    print(factorial(n)) if n >= 0 else print('Debe ser un numero positivo')   \n",
    "\n",
    "# En este caso ejecute el codigo introduciendo el numero 5     "
   ]
  }
 ],
 "metadata": {
  "interpreter": {
   "hash": "c85384e4cb51c8b72350f3a8712cc8351fdc3955e32a27f9b60c6242ab125f01"
  },
  "kernelspec": {
   "display_name": "Python 3 (ipykernel)",
   "language": "python",
   "name": "python3"
  },
  "language_info": {
   "codemirror_mode": {
    "name": "ipython",
    "version": 3
   },
   "file_extension": ".py",
   "mimetype": "text/x-python",
   "name": "python",
   "nbconvert_exporter": "python",
   "pygments_lexer": "ipython3",
   "version": "3.10.11"
  }
 },
 "nbformat": 4,
 "nbformat_minor": 4
}
