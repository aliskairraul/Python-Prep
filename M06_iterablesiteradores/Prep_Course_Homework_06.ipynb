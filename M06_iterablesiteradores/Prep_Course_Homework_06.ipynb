{
 "cells": [
  {
   "attachments": {},
   "cell_type": "markdown",
   "metadata": {},
   "source": [
    "## Iteradores e iterables"
   ]
  },
  {
   "attachments": {},
   "cell_type": "markdown",
   "metadata": {},
   "source": [
    "1) A partir de una lista vacía, utilizar un ciclo while para cargar allí números negativos del -15 al -1"
   ]
  },
  {
   "cell_type": "code",
   "execution_count": 13,
   "metadata": {},
   "outputs": [
    {
     "name": "stdout",
     "output_type": "stream",
     "text": [
      "[-15, -14, -13, -12, -11, -10, -9, -8, -7, -6, -5, -4, -3, -2, -1]\n"
     ]
    }
   ],
   "source": [
    "mi_lista = []\n",
    "numero = -15\n",
    "while numero < 0:\n",
    "    mi_lista.append(numero)\n",
    "    numero += 1\n",
    "\n",
    "print(mi_lista)"
   ]
  },
  {
   "attachments": {},
   "cell_type": "markdown",
   "metadata": {},
   "source": [
    "2) ¿Con un ciclo while sería posible recorrer la lista para imprimir sólo los números pares?"
   ]
  },
  {
   "cell_type": "code",
   "execution_count": 14,
   "metadata": {},
   "outputs": [
    {
     "name": "stdout",
     "output_type": "stream",
     "text": [
      "-14\n",
      "-12\n",
      "-10\n",
      "-8\n",
      "-6\n",
      "-4\n",
      "-2\n"
     ]
    }
   ],
   "source": [
    "\"\"\"Con el ciclo while si se puede hacer lo encomendado. Pero seria mas facil de hacer y de Leer el \n",
    "   codigo con el ciclo for.\"\"\"\n",
    "indice = 0\n",
    "while indice < len(mi_lista):\n",
    "    if mi_lista[indice] %2 ==0: print(mi_lista[indice])\n",
    "    indice += 1\n"
   ]
  },
  {
   "attachments": {},
   "cell_type": "markdown",
   "metadata": {},
   "source": [
    "3) Resolver el punto anterior sin utilizar un ciclo while"
   ]
  },
  {
   "cell_type": "code",
   "execution_count": 15,
   "metadata": {},
   "outputs": [
    {
     "name": "stdout",
     "output_type": "stream",
     "text": [
      "-14\n",
      "-12\n",
      "-10\n",
      "-8\n",
      "-6\n",
      "-4\n",
      "-2\n"
     ]
    }
   ],
   "source": [
    "for numero in mi_lista:\n",
    "    if numero % 2 == 0: print(numero)"
   ]
  },
  {
   "attachments": {},
   "cell_type": "markdown",
   "metadata": {},
   "source": [
    "4) Utilizar el iterable para recorrer sólo los primeros 3 elementos"
   ]
  },
  {
   "cell_type": "code",
   "execution_count": 19,
   "metadata": {},
   "outputs": [
    {
     "name": "stdout",
     "output_type": "stream",
     "text": [
      "-15\n",
      "-14\n",
      "-13\n"
     ]
    }
   ],
   "source": [
    "iterable = iter(mi_lista)\n",
    "for i in range(3):\n",
    "    print(next(iterable))"
   ]
  },
  {
   "attachments": {},
   "cell_type": "markdown",
   "metadata": {},
   "source": [
    "5) Utilizar la función **enumerate** para obtener dentro del iterable, tambien el índice al que corresponde el elemento"
   ]
  },
  {
   "cell_type": "code",
   "execution_count": 46,
   "metadata": {},
   "outputs": [
    {
     "name": "stdout",
     "output_type": "stream",
     "text": [
      " 0 ,-15\n",
      " 1 ,-14\n",
      " 2 ,-13\n",
      " 3 ,-12\n",
      " 4 ,-11\n",
      " 5 ,-10\n",
      " 6 ,-9\n",
      " 7 ,-8\n",
      " 8 ,-7\n",
      " 9 ,-6\n",
      " 10 ,-5\n",
      " 11 ,-4\n",
      " 12 ,-3\n",
      " 13 ,-2\n",
      " 14 ,-1\n"
     ]
    }
   ],
   "source": [
    "\n",
    "for indice,elemento in enumerate (mi_lista):\n",
    "    print(f' {indice} ,{elemento}')\n",
    "   "
   ]
  },
  {
   "attachments": {},
   "cell_type": "markdown",
   "metadata": {},
   "source": [
    "6) Dada la siguiente lista de números enteros entre 1 y 20, crear un ciclo donde se completen los valores faltantes: lista = [1,2,5,7,8,10,13,14,15,17,20]"
   ]
  },
  {
   "cell_type": "code",
   "execution_count": 21,
   "metadata": {},
   "outputs": [
    {
     "name": "stdout",
     "output_type": "stream",
     "text": [
      "[1, 2, 3, 4, 5, 6, 7, 8, 9, 10, 11, 12, 13, 14, 15, 16, 17, 18, 19, 20]\n"
     ]
    }
   ],
   "source": [
    "lista = [1,2,5,7,8,10,13,14,15,17,20]\n",
    "for i in range(20):\n",
    "    if lista[i] == i+1: continue\n",
    "    lista.insert(i, i+1)\n",
    "print(lista)"
   ]
  },
  {
   "attachments": {},
   "cell_type": "markdown",
   "metadata": {},
   "source": [
    "7) La sucesión de Fibonacci es un listado de números que sigue la fórmula: <br>\n",
    "n<sub>0</sub> = 0<br>\n",
    "n<sub>1</sub> = 1<br>\n",
    "n<sub>i</sub> = n<sub>i-1</sub> + n<sub>i-2</sub><br>\n",
    "Crear una lista con los primeros treinta números de la sucesión.<br>"
   ]
  },
  {
   "cell_type": "code",
   "execution_count": 22,
   "metadata": {},
   "outputs": [
    {
     "name": "stdout",
     "output_type": "stream",
     "text": [
      "[0, 1, 1, 2, 3, 5, 8, 13, 21, 34, 55, 89, 144, 233, 377, 610, 987, 1597, 2584, 4181, 6765, 10946, 17711, 28657, 46368, 75025, 121393, 196418, 317811, 514229]\n",
      "Elementos de la lista --> 30\n"
     ]
    }
   ],
   "source": [
    "lista_fibo = [0,1]\n",
    "for i in range(2,30):\n",
    "    lista_fibo.append(lista_fibo[i-1]+lista_fibo[i-2])\n",
    "    \n",
    "print(lista_fibo) \n",
    "print(f'Elementos de la lista --> {len(lista_fibo)}' )   "
   ]
  },
  {
   "attachments": {},
   "cell_type": "markdown",
   "metadata": {},
   "source": [
    "8) Realizar la suma de todos elementos de la lista del punto anterior"
   ]
  },
  {
   "cell_type": "code",
   "execution_count": 25,
   "metadata": {},
   "outputs": [
    {
     "name": "stdout",
     "output_type": "stream",
     "text": [
      "1346268\n"
     ]
    }
   ],
   "source": [
    "suma = sum(lista_fibo)\n",
    "print(suma)"
   ]
  },
  {
   "attachments": {},
   "cell_type": "markdown",
   "metadata": {},
   "source": [
    "9) La proporción aurea se expresa con una proporción matemática que nace el número irracional Phi= 1,618… que los griegos llamaron número áureo. El cuál se puede aproximar con la sucesión de Fibonacci. Con la lista del ejercicio anterior, imprimir el cociente de los últimos 5 pares de dos números contiguos:<br>\n",
    "Donde i es la cantidad total de elementos<br>\n",
    "n<sub>i-1</sub> / n<sub>i</sub><br>\n",
    "n<sub>i-2</sub> / n<sub>i-1</sub><br>\n",
    "n<sub>i-3</sub> / n<sub>i-2</sub><br>\n",
    "n<sub>i-4</sub> / n<sub>i-3</sub><br>\n",
    "n<sub>i-5</sub> / n<sub>i-4</sub><br>\n",
    " "
   ]
  },
  {
   "cell_type": "code",
   "execution_count": 30,
   "metadata": {},
   "outputs": [
    {
     "name": "stdout",
     "output_type": "stream",
     "text": [
      "Division del elemento 25 entre el elemento 24 da --> 1.618033988957902\n",
      "Sumando los elementos (24,25) y dividiendo entre el elemento 25 da -->1.6180339886704431\n",
      "==========================================================================================\n",
      "Division del elemento 26 entre el elemento 25 da --> 1.6180339886704431\n",
      "Sumando los elementos (25,26) y dividiendo entre el elemento 26 da -->1.6180339887802426\n",
      "==========================================================================================\n",
      "Division del elemento 27 entre el elemento 26 da --> 1.6180339887802426\n",
      "Sumando los elementos (26,27) y dividiendo entre el elemento 27 da -->1.618033988738303\n",
      "==========================================================================================\n",
      "Division del elemento 28 entre el elemento 27 da --> 1.618033988738303\n",
      "Sumando los elementos (27,28) y dividiendo entre el elemento 28 da -->1.6180339887543225\n",
      "==========================================================================================\n",
      "Division del elemento 29 entre el elemento 28 da --> 1.6180339887543225\n",
      "Sumando los elementos (28,29) y dividiendo entre el elemento 29 da -->1.6180339887482036\n",
      "==========================================================================================\n"
     ]
    }
   ],
   "source": [
    "\"\"\" \n",
    "Proporcion Aurea\n",
    "(a + b) / a = a / b = Φ\n",
    "donde \n",
    "- a es la cantidad más grande\n",
    "- b es la cantidad más pequeña\n",
    "- Φ es la proporción áurea que es aproximadamente 1.618\n",
    "\n",
    "Ejercicio Pide lista_fibo[29]/lista_fibo[28]   comparar con (lista_fibo[29]+lista_fibo[28]) / lista_fibo[29]\n",
    "y asi para los ultimos 5 pares\"\"\"\n",
    "\n",
    "for i in range(24,29):\n",
    "    print(f'Division del elemento {i+1} entre el elemento {i} da --> {lista_fibo[i+1] / lista_fibo[i]}')\n",
    "    print(f'Sumando los elementos ({i},{i+1}) y dividiendo entre el elemento {i+1} da -->'+ \n",
    "          f'{(lista_fibo[i]+lista_fibo[i+1])/lista_fibo[i+1]}')\n",
    "    print('='*90)"
   ]
  },
  {
   "attachments": {},
   "cell_type": "markdown",
   "metadata": {},
   "source": [
    "10) A partir de la variable cadena ya dada, mostrar en qué posiciones aparece la letra \"n\"<br>\n",
    "cadena = 'Hola Mundo. Esto es una practica del lenguaje de programación Python'"
   ]
  },
  {
   "cell_type": "code",
   "execution_count": 31,
   "metadata": {},
   "outputs": [
    {
     "name": "stdout",
     "output_type": "stream",
     "text": [
      "Aparece en el indice 7\n",
      "Aparece en el indice 21\n",
      "Aparece en el indice 39\n",
      "Aparece en el indice 60\n",
      "Aparece en el indice 67\n"
     ]
    }
   ],
   "source": [
    "cadena = 'Hola Mundo. Esto es una practica del lenguaje de programación Python'\n",
    "for item in enumerate(cadena):\n",
    "    if item[1] == 'n':\n",
    "        print(f'Aparece en el indice {item[0]}')"
   ]
  },
  {
   "attachments": {},
   "cell_type": "markdown",
   "metadata": {},
   "source": [
    "11) Crear un diccionario e imprimir sus claves utilizando un iterador"
   ]
  },
  {
   "cell_type": "code",
   "execution_count": 38,
   "metadata": {},
   "outputs": [
    {
     "name": "stdout",
     "output_type": "stream",
     "text": [
      "clave1\n",
      "clave2\n",
      "clave3\n"
     ]
    }
   ],
   "source": [
    "mi_diccionario = {'clave1':'valor1','clave2':'valor2','clave3':'valor3'}\n",
    "iterador = iter(mi_diccionario)\n",
    "for i in range(len(mi_diccionario)):\n",
    "    print(next(iterador))\n",
    "   "
   ]
  },
  {
   "attachments": {},
   "cell_type": "markdown",
   "metadata": {},
   "source": [
    "12) Convertir en una lista la variable \"cadena\" del punto 10 y luego recorrerla con un iterador "
   ]
  },
  {
   "cell_type": "code",
   "execution_count": 40,
   "metadata": {},
   "outputs": [
    {
     "name": "stdout",
     "output_type": "stream",
     "text": [
      "H\n",
      "o\n",
      "l\n",
      "a\n",
      " \n",
      "M\n",
      "u\n",
      "n\n",
      "d\n",
      "o\n",
      ".\n",
      " \n",
      "E\n",
      "s\n",
      "t\n",
      "o\n",
      " \n",
      "e\n",
      "s\n",
      " \n",
      "u\n",
      "n\n",
      "a\n",
      " \n",
      "p\n",
      "r\n",
      "a\n",
      "c\n",
      "t\n",
      "i\n",
      "c\n",
      "a\n",
      " \n",
      "d\n",
      "e\n",
      "l\n",
      " \n",
      "l\n",
      "e\n",
      "n\n",
      "g\n",
      "u\n",
      "a\n",
      "j\n",
      "e\n",
      " \n",
      "d\n",
      "e\n",
      " \n",
      "p\n",
      "r\n",
      "o\n",
      "g\n",
      "r\n",
      "a\n",
      "m\n",
      "a\n",
      "c\n",
      "i\n",
      "ó\n",
      "n\n",
      " \n",
      "P\n",
      "y\n",
      "t\n",
      "h\n",
      "o\n",
      "n\n"
     ]
    }
   ],
   "source": [
    "cadena = 'Hola Mundo. Esto es una practica del lenguaje de programación Python'\n",
    "lista = list(cadena)\n",
    "iterador = iter(lista)\n",
    "for i in range(len(lista)):\n",
    "    print(next(iterador))\n"
   ]
  },
  {
   "attachments": {},
   "cell_type": "markdown",
   "metadata": {},
   "source": [
    "13) Crear dos listas y unirlas en una tupla utilizando la función zip"
   ]
  },
  {
   "cell_type": "code",
   "execution_count": 42,
   "metadata": {},
   "outputs": [
    {
     "name": "stdout",
     "output_type": "stream",
     "text": [
      "(1, 'a')\n",
      "(2, 'b')\n",
      "(3, 'c')\n",
      "(4, 'd')\n",
      "(5, 'e')\n"
     ]
    }
   ],
   "source": [
    "lista_1 = [1,2,3,4,5]\n",
    "lista_2 = ['a','b','c','d','e']\n",
    "union_zip = zip(lista_1,lista_2)\n",
    "for i in union_zip:\n",
    "    print(i)"
   ]
  },
  {
   "attachments": {},
   "cell_type": "markdown",
   "metadata": {},
   "source": [
    "14) A partir de la siguiente lista de números, crear una nueva sólo si el número es divisible por 7<br>\n",
    "lis = [18,21,29,32,35,42,56,60,63,71,84,90,91,100]"
   ]
  },
  {
   "cell_type": "code",
   "execution_count": 43,
   "metadata": {},
   "outputs": [
    {
     "name": "stdout",
     "output_type": "stream",
     "text": [
      "[21, 35, 42, 56, 63, 84, 91]\n"
     ]
    }
   ],
   "source": [
    "lis = [18,21,29,32,35,42,56,60,63,71,84,90,91,100]\n",
    "multiplos_7 = [x for x in lis if x % 7 == 0]\n",
    "print(multiplos_7)"
   ]
  },
  {
   "attachments": {},
   "cell_type": "markdown",
   "metadata": {},
   "source": [
    "15) A partir de la lista de a continuación, contar la cantidad total de elementos que contiene, teniendo en cuenta que un elemento de la lista podría ser otra lista:<br>\n",
    "lis = [[1,2,3,4],'rojo','verde',[True,False,False],['uno','dos','tres']]"
   ]
  },
  {
   "cell_type": "code",
   "execution_count": 47,
   "metadata": {},
   "outputs": [
    {
     "name": "stdout",
     "output_type": "stream",
     "text": [
      "Elementos hijos directos --> 5\n",
      "cantidad de elementos contando los nietos --> 12\n"
     ]
    }
   ],
   "source": [
    "lis = [[1,2,3,4],'rojo','verde',[True,False,False],['uno','dos','tres']]\n",
    "print(f'Elementos hijos directos --> {len(lis)}') # Cantidad de elementos de la lista como tal\n",
    "\n",
    "#Elementos TOTALES INCLUYENDO NIETOS\n",
    "contador = 0\n",
    "for elemento in lis:\n",
    "    if (type(elemento) == list or type(elemento) == tuple or type(elemento) == set):\n",
    "        contador += len(elemento)\n",
    "    else:\n",
    "        contador += 1\n",
    "print(f'cantidad de elementos contando los nietos --> {contador}')"
   ]
  },
  {
   "attachments": {},
   "cell_type": "markdown",
   "metadata": {},
   "source": [
    "16) Tomar la lista del punto anterior y convertir cada elemento en una lista si no lo es"
   ]
  },
  {
   "cell_type": "code",
   "execution_count": 45,
   "metadata": {},
   "outputs": [
    {
     "name": "stdout",
     "output_type": "stream",
     "text": [
      "[[1, 2, 3, 4], ['r', 'o', 'j', 'o'], ['v', 'e', 'r', 'd', 'e'], [True, False, False], ['uno', 'dos', 'tres']]\n"
     ]
    }
   ],
   "source": [
    "for i,elemento in enumerate (lis):\n",
    "    if type(elemento) != list:\n",
    "        lis[i] = list(elemento)  \n",
    "\n",
    "print(lis)"
   ]
  }
 ],
 "metadata": {
  "interpreter": {
   "hash": "c85384e4cb51c8b72350f3a8712cc8351fdc3955e32a27f9b60c6242ab125f01"
  },
  "kernelspec": {
   "display_name": "Python 3 (ipykernel)",
   "language": "python",
   "name": "python3"
  },
  "language_info": {
   "codemirror_mode": {
    "name": "ipython",
    "version": 3
   },
   "file_extension": ".py",
   "mimetype": "text/x-python",
   "name": "python",
   "nbconvert_exporter": "python",
   "pygments_lexer": "ipython3",
   "version": "3.10.11"
  }
 },
 "nbformat": 4,
 "nbformat_minor": 4
}
