{
 "cells": [
  {
   "attachments": {},
   "cell_type": "markdown",
   "metadata": {},
   "source": [
    "## Clases y Programación Orientada a Objetos"
   ]
  },
  {
   "attachments": {},
   "cell_type": "markdown",
   "metadata": {},
   "source": [
    "1) Crear la clase vehículo que contenga los atributos:<br>\n",
    "Color<br>\n",
    "Si es moto, auto, camioneta ó camión<br>\n",
    "Cilindrada del motor"
   ]
  },
  {
   "cell_type": "code",
   "execution_count": 1,
   "metadata": {},
   "outputs": [],
   "source": [
    "class Vehiculo:\n",
    "    def __init__(self, color, tipo, cilindrada):\n",
    "        self.color = color\n",
    "        self.tipo = tipo\n",
    "        self.cilindrada = cilindrada\n",
    "        "
   ]
  },
  {
   "attachments": {},
   "cell_type": "markdown",
   "metadata": {},
   "source": [
    "2) A la clase Vehiculo creada en el punto 1, agregar los siguientes métodos:<br>\n",
    "Acelerar<br>\n",
    "Frenar<br>\n",
    "Doblar<br>"
   ]
  },
  {
   "cell_type": "code",
   "execution_count": 6,
   "metadata": {},
   "outputs": [],
   "source": [
    "class Vehiculo:\n",
    "    def __init__(self, color, tipo, cilindrada, velocidad, direccion):\n",
    "        self.color = color\n",
    "        self.tipo = tipo\n",
    "        self.cilindrada = cilindrada\n",
    "        self.velocidad = velocidad\n",
    "        self.direccion = direccion\n",
    "\n",
    "\n",
    "    def acelerar(self,velocidad):\n",
    "        self.velocidad += velocidad\n",
    "\n",
    "    def frenar(self,velocidad):\n",
    "        self.velocidad -= velocidad\n",
    "\n",
    "    def doblar(self, grados):\n",
    "        self.direccion += grados"
   ]
  },
  {
   "attachments": {},
   "cell_type": "markdown",
   "metadata": {},
   "source": [
    "3) Instanciar 3 objetos de la clase vehículo y ejecutar sus métodos, probar luego el resultado"
   ]
  },
  {
   "cell_type": "code",
   "execution_count": 7,
   "metadata": {},
   "outputs": [],
   "source": [
    "vehiculo_1 = Vehiculo('Gris', 'Autmomovil', 2000,80,0)\n",
    "vehiculo_2 = Vehiculo('Negro', 'Motocicleta', 500,100,0)\n",
    "vehiculo_3 = Vehiculo('Blanco', 'Camion', 6000,60,0)\n",
    "\n",
    "vehiculo_1.acelerar(20)\n",
    "vehiculo_2.doblar(-90)\n",
    "vehiculo_3.frenar(20)"
   ]
  },
  {
   "attachments": {},
   "cell_type": "markdown",
   "metadata": {},
   "source": [
    "4) Agregar a la clase Vehiculo, un método que muestre su estado, es decir, a que velocidad se encuentra y su dirección. Y otro método que muestre color, tipo y cilindrada"
   ]
  },
  {
   "cell_type": "code",
   "execution_count": 1,
   "metadata": {},
   "outputs": [],
   "source": [
    "class Vehiculo:\n",
    "    def __init__(self, color, tipo, cilindrada, velocidad, direccion):\n",
    "        self.color = color\n",
    "        self.tipo = tipo\n",
    "        self.cilindrada = cilindrada\n",
    "        self.velocidad = velocidad\n",
    "        self.direccion = direccion\n",
    "\n",
    "\n",
    "    def acelerar(self,velocidad):\n",
    "        self.velocidad += velocidad\n",
    "\n",
    "    def frenar(self,velocidad):\n",
    "        self.velocidad -= velocidad\n",
    "\n",
    "    def doblar(self, grados):\n",
    "        self.direccion += grados\n",
    "\n",
    "    def estado(self):\n",
    "        print(f'tipo: {self.tipo} - Velocidad: {self.velocidad} - Dirección: {self.direccion}')"
   ]
  },
  {
   "cell_type": "code",
   "execution_count": 2,
   "metadata": {},
   "outputs": [
    {
     "name": "stdout",
     "output_type": "stream",
     "text": [
      "tipo: Autmomovil - Velocidad: 100 - Dirección: 0\n",
      "tipo: Motocicleta - Velocidad: 100 - Dirección: -90\n",
      "tipo: Camion - Velocidad: 40 - Dirección: 0\n"
     ]
    }
   ],
   "source": [
    "vehiculo_1 = Vehiculo('Gris', 'Autmomovil', 2000,80,0)\n",
    "vehiculo_2 = Vehiculo('Negro', 'Motocicleta', 500,100,0)\n",
    "vehiculo_3 = Vehiculo('Blanco', 'Camion', 6000,60,0)\n",
    "\n",
    "vehiculo_1.acelerar(20)\n",
    "vehiculo_2.doblar(-90)\n",
    "vehiculo_3.frenar(20)\n",
    "vehiculo_1.estado()\n",
    "vehiculo_2.estado()\n",
    "vehiculo_3.estado()"
   ]
  },
  {
   "attachments": {},
   "cell_type": "markdown",
   "metadata": {},
   "source": [
    "5) Crear una clase que permita utilizar las funciones creadas en la práctica del módulo 7<br>\n",
    "Verificar Primo<br>\n",
    "Valor modal<br>\n",
    "Conversión grados<br>\n",
    "Factorial<br>"
   ]
  },
  {
   "cell_type": "code",
   "execution_count": 3,
   "metadata": {},
   "outputs": [],
   "source": [
    "class UtilInterno():\n",
    "    def __init__(self):\n",
    "        pass\n",
    "\n",
    "    def verificar_primo_numero(self,n):\n",
    "        if n in [1,2,3]: return True\n",
    "        if n%2!=0 and n%3!=0: return True\n",
    "        return False\n",
    "\n",
    "    def conversor_grados(self, valor, origen, destino):\n",
    "            if origen == destino: return valor\n",
    "            if origen == 'C' and destino == 'F': return (valor * 9 / 5) + 32\n",
    "            if origen == 'C' and destino == 'K': return (valor + 273.15)\n",
    "            if origen == 'F' and destino == 'C': return (valor - 32) * 5 / 9\n",
    "            if origen == 'F' and destino == 'K': return ((valor - 32) * 5 / 9) + 273.15\n",
    "            if origen == 'K' and destino == 'C': return (valor - 273.15)\n",
    "            if origen == 'K' and destino == 'F': return ((valor - 273.15) * 9 / 5) + 32\n",
    "\n",
    "    def devolver_lista_primos(self,lista):\n",
    "        devuelve_primos = lambda lista:[numero for numero in lista if self.verificar_primo_numero(numero)]\n",
    "        return devuelve_primos(lista)\n",
    "\n",
    "    def factorial(self, n)->int:\n",
    "            fact = 1\n",
    "            if n > 0:\n",
    "                for i in range(n, 0, -1):\n",
    "                    fact = fact * i\n",
    "            return fact\n",
    "\n",
    "    def valor_modal(self,lista):\n",
    "        diccionario ={}\n",
    "        for elemento in lista:\n",
    "            if elemento in diccionario:\n",
    "                diccionario[elemento] += 1\n",
    "            else:\n",
    "                diccionario[elemento] = 1\n",
    "        valor_modal = 0\n",
    "        veces = 0\n",
    "        for clave in diccionario:\n",
    "            if diccionario[clave] > veces:\n",
    "                veces = diccionario[clave]\n",
    "                valor_modal = clave\n",
    "        return valor_modal,veces\n",
    "      \n",
    "\n",
    "        "
   ]
  },
  {
   "attachments": {},
   "cell_type": "markdown",
   "metadata": {},
   "source": [
    "6) Probar las funciones incorporadas en la clase del punto 5"
   ]
  },
  {
   "cell_type": "code",
   "execution_count": 5,
   "metadata": {},
   "outputs": [
    {
     "name": "stdout",
     "output_type": "stream",
     "text": [
      "============================= Verificando si 23 es Primo =============================\n",
      "True\n",
      "============================= Devolviendo el factorial de 9 =============================\n",
      "362880\n",
      "======================= Convirtiendo 100 de Centigrados a Farenheit ======================\n",
      "212.0\n",
      "============================= Devolviendo el valor modal =============================\n",
      "Valor Modal --> 2, Repeticiones --> 3\n",
      "============================= Devolviendo la lista de primos =============================\n",
      "[2, 3, 7, 5, 2, 1, 2, 13]\n"
     ]
    }
   ],
   "source": [
    "util = UtilInterno()\n",
    "print('============================= Verificando si 23 es Primo =============================')\n",
    "print(util.verificar_primo_numero(23))\n",
    "print('============================= Devolviendo el factorial de 9 =============================')\n",
    "print(util.factorial(9))\n",
    "print('======================= Convirtiendo 100 de Centigrados a Farenheit ======================')\n",
    "print(util.conversor_grados(100, 'C', 'F'))\n",
    "print('============================= Devolviendo el valor modal =============================')\n",
    "valor_modal,repeticiones = util.valor_modal([2,3,7,5,8,2,8,9,1,2,9,13,15]) \n",
    "print(f'Valor Modal --> {valor_modal}, Repeticiones --> {repeticiones}')\n",
    "print('============================= Devolviendo la lista de primos =============================')\n",
    "print(util.devolver_lista_primos([2,3,7,5,8,2,8,9,1,2,9,13,15]))\n",
    "\n"
   ]
  },
  {
   "attachments": {},
   "cell_type": "markdown",
   "metadata": {},
   "source": [
    "7) Es necesario que la clase creada en el punto 5 contenga una lista, sobre la cual se apliquen las funciones incorporadas"
   ]
  },
  {
   "cell_type": "code",
   "execution_count": 1,
   "metadata": {},
   "outputs": [],
   "source": [
    "class UtilInterno():\n",
    "    def __init__(self,lista):\n",
    "        self.lista = lista\n",
    "\n",
    "    def devolver_listas(self):\n",
    "        lista_primos = self.devolver_lista_primos(self.lista)\n",
    "        valor_modal,repeticiones = self.valor_modal(self.lista)\n",
    "        lista_grados = []\n",
    "        lista_factorial = []\n",
    "        for elemento in self.lista:\n",
    "            lista_grados.append(self.conversor_grados(elemento, 'C', 'F'))\n",
    "            lista_factorial.append(self.factorial(elemento))\n",
    "        return lista_primos,valor_modal,repeticiones,lista_grados,lista_factorial\n",
    "        \n",
    "        \n",
    "    def verificar_primo_numero(self,n):\n",
    "        if n in [1,2,3]: return True\n",
    "        if n%2!=0 and n%3!=0: return True\n",
    "        return False\n",
    "\n",
    "    def conversor_grados(self, valor, origen, destino):\n",
    "            if origen == destino: return valor\n",
    "            if origen == 'C' and destino == 'F': return (valor * 9 / 5) + 32\n",
    "            if origen == 'C' and destino == 'K': return (valor + 273.15)\n",
    "            if origen == 'F' and destino == 'C': return (valor - 32) * 5 / 9\n",
    "            if origen == 'F' and destino == 'K': return ((valor - 32) * 5 / 9) + 273.15\n",
    "            if origen == 'K' and destino == 'C': return (valor - 273.15)\n",
    "            if origen == 'K' and destino == 'F': return ((valor - 273.15) * 9 / 5) + 32\n",
    "\n",
    "    def devolver_lista_primos(self,lista):\n",
    "        devuelve_primos = lambda lista:[numero for numero in lista if self.verificar_primo_numero(numero)]\n",
    "        return devuelve_primos(lista)\n",
    "\n",
    "    def factorial(self, n):\n",
    "            fact = 1\n",
    "            if n > 0:\n",
    "                for i in range(n, 0, -1):\n",
    "                    fact = fact * i\n",
    "            return fact\n",
    "\n",
    "    def valor_modal(self,lista):\n",
    "        diccionario ={}\n",
    "        for elemento in lista:\n",
    "            if elemento in diccionario:\n",
    "                diccionario[elemento] += 1\n",
    "            else:\n",
    "                diccionario[elemento] = 1\n",
    "        valor_modal = 0\n",
    "        veces = 0\n",
    "        for clave in diccionario:\n",
    "            if diccionario[clave] > veces:\n",
    "                veces = diccionario[clave]\n",
    "                valor_modal = clave\n",
    "        return valor_modal,veces"
   ]
  },
  {
   "cell_type": "code",
   "execution_count": 5,
   "metadata": {},
   "outputs": [
    {
     "name": "stdout",
     "output_type": "stream",
     "text": [
      "============================= Lista de Primos =============================\n",
      "[2, 3, 7, 5, 2, 1, 2, 13]\n",
      "============================= Valor Modal =============================\n",
      "Valor Modal --> 2, Repeticiones --> 3\n",
      "============================= Lista de Grados ===============================\n",
      "En Grados Centigrados: [2, 3, 7, 5, 8, 2, 8, 9, 1, 2, 9, 13, 15] \n",
      "En Grados Farenheit: [35.6, 37.4, 44.6, 41.0, 46.4, 35.6, 46.4, 48.2, 33.8, 35.6, 48.2, 55.4, 59.0]  \n",
      "============================= Lista de Factoriales =============================\n",
      "[2, 6, 5040, 120, 40320, 2, 40320, 362880, 1, 2, 362880, 6227020800, 1307674368000]\n"
     ]
    }
   ],
   "source": [
    "lista = [2,3,7,5,8,2,8,9,1,2,9,13,15]\n",
    "util = UtilInterno(lista)\n",
    "lista_primos,valor_modal,repeticiones,lista_grados,lista_factorial = util.devolver_listas()\n",
    "\n",
    "print('============================= Lista de Primos =============================')\n",
    "print(lista_primos)\n",
    "print('============================= Valor Modal =============================')\n",
    "print(f'Valor Modal --> {valor_modal}, Repeticiones --> {repeticiones}')\n",
    "print('============================= Lista de Grados ===============================')\n",
    "print(f'En Grados Centigrados: {lista} \\nEn Grados Farenheit: {lista_grados}  ')\n",
    "print('============================= Lista de Factoriales =============================')\n",
    "print(lista_factorial)"
   ]
  },
  {
   "attachments": {},
   "cell_type": "markdown",
   "metadata": {},
   "source": [
    "8) Crear un archivo .py aparte y ubicar allí la clase generada en el punto anterior. Luego realizar la importación del módulo y probar alguna de sus funciones"
   ]
  },
  {
   "cell_type": "code",
   "execution_count": 8,
   "metadata": {},
   "outputs": [
    {
     "name": "stdout",
     "output_type": "stream",
     "text": [
      "Valor Modal --> 2, Repeticiones --> 3\n"
     ]
    }
   ],
   "source": [
    "#Importando la clase UtilExterno que esta dentro del Modulo M08_classes.util_externo\n",
    "from M08_classes.util_externo import UtilExterno\n",
    "\n",
    "lista = [2,3,7,5,8,2,8,9,1,2,9,13,15]\n",
    "util2 = UtilExterno(lista)\n",
    "\n",
    "valor_modal, repeticiones = util2.valor_modal(lista) \n",
    "print(f'Valor Modal --> {valor_modal}, Repeticiones --> {repeticiones}')"
   ]
  }
 ],
 "metadata": {
  "interpreter": {
   "hash": "c85384e4cb51c8b72350f3a8712cc8351fdc3955e32a27f9b60c6242ab125f01"
  },
  "kernelspec": {
   "display_name": "Python 3 (ipykernel)",
   "language": "python",
   "name": "python3"
  },
  "language_info": {
   "codemirror_mode": {
    "name": "ipython",
    "version": 3
   },
   "file_extension": ".py",
   "mimetype": "text/x-python",
   "name": "python",
   "nbconvert_exporter": "python",
   "pygments_lexer": "ipython3",
   "version": "3.10.11"
  }
 },
 "nbformat": 4,
 "nbformat_minor": 4
}
