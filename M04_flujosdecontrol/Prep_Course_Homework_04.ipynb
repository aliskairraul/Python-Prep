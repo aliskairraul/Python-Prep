{
 "cells": [
  {
   "attachments": {},
   "cell_type": "markdown",
   "metadata": {},
   "source": [
    "## Flujos de Control"
   ]
  },
  {
   "attachments": {},
   "cell_type": "markdown",
   "metadata": {},
   "source": [
    "1) Crear una variable que contenga un elemento del conjunto de números enteros y luego imprimir por pantalla si es mayor o menor a cero"
   ]
  },
  {
   "cell_type": "code",
   "execution_count": null,
   "metadata": {},
   "outputs": [],
   "source": [
    "a = 1\n",
    "if a > 0:\n",
    "    print(\"a es mayor que cero\")\n",
    "elif a < 0:\n",
    "    print(\"a es menor que cero\")\n",
    "else:\n",
    "    print(\"a es igual a cero\")"
   ]
  },
  {
   "attachments": {},
   "cell_type": "markdown",
   "metadata": {},
   "source": [
    "2) Crear dos variables y un condicional que informe si son del mismo tipo de dato"
   ]
  },
  {
   "cell_type": "code",
   "execution_count": 16,
   "metadata": {},
   "outputs": [
    {
     "name": "stdout",
     "output_type": "stream",
     "text": [
      "NO Son el mismo tipo de dato\n"
     ]
    }
   ],
   "source": [
    "a = '2' \n",
    "b = 2\n",
    "if type(a) == type(b):\n",
    "    print('Son el mismo tipo de dato')\n",
    "else:\n",
    "    print('NO Son el mismo tipo de dato')"
   ]
  },
  {
   "attachments": {},
   "cell_type": "markdown",
   "metadata": {},
   "source": [
    "3) Para los valores enteros del 1 al 20, imprimir por pantalla si es par o impar"
   ]
  },
  {
   "cell_type": "code",
   "execution_count": 1,
   "metadata": {},
   "outputs": [
    {
     "name": "stdout",
     "output_type": "stream",
     "text": [
      "El numero 1 es impar\n",
      "El numero 2 es par\n",
      "El numero 3 es impar\n",
      "El numero 4 es par\n",
      "El numero 5 es impar\n",
      "El numero 6 es par\n",
      "El numero 7 es impar\n",
      "El numero 8 es par\n",
      "El numero 9 es impar\n",
      "El numero 10 es par\n",
      "El numero 11 es impar\n",
      "El numero 12 es par\n",
      "El numero 13 es impar\n",
      "El numero 14 es par\n",
      "El numero 15 es impar\n",
      "El numero 16 es par\n",
      "El numero 17 es impar\n",
      "El numero 18 es par\n",
      "El numero 19 es impar\n",
      "El numero 20 es par\n"
     ]
    }
   ],
   "source": [
    "for i in range(1, 21, 1):\n",
    "    print(f'El numero {i} es impar') if i % 2 != 0 else print(f'El numero {i} es par')"
   ]
  },
  {
   "attachments": {},
   "cell_type": "markdown",
   "metadata": {},
   "source": [
    "4) En un ciclo for mostrar para los valores entre 0 y 5 el resultado de elevarlo a la potencia igual a 3"
   ]
  },
  {
   "cell_type": "code",
   "execution_count": 2,
   "metadata": {},
   "outputs": [
    {
     "name": "stdout",
     "output_type": "stream",
     "text": [
      "El resultado de elevar 0 a la potencia de 3 es --> 0\n",
      "El resultado de elevar 1 a la potencia de 3 es --> 1\n",
      "El resultado de elevar 2 a la potencia de 3 es --> 8\n",
      "El resultado de elevar 3 a la potencia de 3 es --> 27\n",
      "El resultado de elevar 4 a la potencia de 3 es --> 64\n",
      "El resultado de elevar 5 a la potencia de 3 es --> 125\n"
     ]
    }
   ],
   "source": [
    "for i in range(6):\n",
    "    print(f'El resultado de elevar {i} a la potencia de 3 es --> {i**3}')"
   ]
  },
  {
   "attachments": {},
   "cell_type": "markdown",
   "metadata": {},
   "source": [
    "5) Crear una variable que contenga un número entero y realizar un ciclo for la misma cantidad de ciclos"
   ]
  },
  {
   "cell_type": "code",
   "execution_count": 3,
   "metadata": {},
   "outputs": [
    {
     "name": "stdout",
     "output_type": "stream",
     "text": [
      "Esta es la iteracion 1\n",
      "Esta es la iteracion 2\n",
      "Esta es la iteracion 3\n",
      "Esta es la iteracion 4\n",
      "Esta es la iteracion 5\n"
     ]
    }
   ],
   "source": [
    "iteraciones = 5\n",
    "for i in range(iteraciones):\n",
    "    print(f'Esta es la iteracion {i+1}')"
   ]
  },
  {
   "attachments": {},
   "cell_type": "markdown",
   "metadata": {},
   "source": [
    "6) Utilizar un ciclo while para realizar el factorial de un número guardado en una variable, sólo si la variable contiene un número entero mayor a 0"
   ]
  },
  {
   "cell_type": "code",
   "execution_count": 14,
   "metadata": {},
   "outputs": [
    {
     "name": "stdout",
     "output_type": "stream",
     "text": [
      "El factorial de 5 es 120\n"
     ]
    }
   ],
   "source": [
    "var = 9\n",
    "if var >0:\n",
    "    i = 1\n",
    "    fact = 1\n",
    "    while i <= var:\n",
    "        fact = fact * i\n",
    "        i = i + 1\n",
    "    print (f'El factorial de {var} es {fact}')"
   ]
  },
  {
   "cell_type": "code",
   "execution_count": 12,
   "metadata": {},
   "outputs": [
    {
     "name": "stdout",
     "output_type": "stream",
     "text": [
      "El factorial de 9 es 362880\n"
     ]
    }
   ],
   "source": [
    "# MISMO FACTORIAL REALIZADO CON UN CILO for \n",
    "var = 9\n",
    "fact = 1\n",
    "if var > 0:\n",
    "    for i in range(var, 0, -1):\n",
    "        fact = fact * i\n",
    "    print (f'El factorial de {var} es {fact}')"
   ]
  },
  {
   "attachments": {},
   "cell_type": "markdown",
   "metadata": {},
   "source": [
    "7) Crear un ciclo for dentro de un ciclo while"
   ]
  },
  {
   "cell_type": "code",
   "execution_count": 17,
   "metadata": {},
   "outputs": [
    {
     "name": "stdout",
     "output_type": "stream",
     "text": [
      "EL nombre del empleado con el id --> 11  es --> Carlos\n",
      "EL nombre del empleado con el id --> 2  es --> Pedro\n",
      "EL nombre del empleado con el id --> 7  es --> Maria\n",
      "EL nombre del empleado con el id --> 15  es --> Luis\n",
      "EL nombre del empleado con el id --> 4  es --> Juan\n",
      "EL nombre del empleado con el id --> 8  es --> Ana\n",
      "EL nombre del empleado con el id --> 9  es --> Sofia\n"
     ]
    }
   ],
   "source": [
    "id_empleado = [11,2, 7, 15, 4, 8, 9]\n",
    "empleados = [{'nombre':'Juan', 'id': 4},\n",
    "             {'nombre':'Pedro', 'id': 2},\n",
    "             {'nombre':'Maria', 'id': 7},\n",
    "             {'nombre':'Luis', 'id': 15},\n",
    "             {'nombre':'Ana', 'id': 8},\n",
    "             {'nombre':'Sofia', 'id': 9},\n",
    "             {'nombre':'Carlos', 'id': 11}]\n",
    "\n",
    "indice = 0\n",
    "while indice < len(id_empleado):\n",
    "    for empleado in empleados:\n",
    "        if id_empleado[indice] == empleado['id']:\n",
    "            print(f\"EL nombre del empleado con el id --> {id_empleado[indice]}  es --> {empleado['nombre']}\")\n",
    "            break\n",
    "    indice += 1"
   ]
  },
  {
   "attachments": {},
   "cell_type": "markdown",
   "metadata": {},
   "source": [
    "8) Crear un ciclo while dentro de un ciclo for"
   ]
  },
  {
   "cell_type": "code",
   "execution_count": 11,
   "metadata": {},
   "outputs": [
    {
     "name": "stdout",
     "output_type": "stream",
     "text": [
      "EL nombre del empleado con el id --> 11  es --> Carlos\n",
      "EL nombre del empleado con el id --> 2  es --> Pedro\n",
      "EL nombre del empleado con el id --> 7  es --> Maria\n",
      "EL nombre del empleado con el id --> 15  es --> Luis\n",
      "EL nombre del empleado con el id --> 4  es --> Juan\n",
      "EL nombre del empleado con el id --> 8  es --> Ana\n",
      "EL nombre del empleado con el id --> 9  es --> Sofia\n"
     ]
    }
   ],
   "source": [
    "id_empleado = [11,2, 7, 15, 4, 8, 9]\n",
    "empleados = [{'nombre':'Juan', 'id': 4},\n",
    "             {'nombre':'Pedro', 'id': 2},\n",
    "             {'nombre':'Maria', 'id': 7},\n",
    "             {'nombre':'Luis', 'id': 15},\n",
    "             {'nombre':'Ana', 'id': 8},\n",
    "             {'nombre':'Sofia', 'id': 9},\n",
    "             {'nombre':'Carlos', 'id': 11}]\n",
    "\n",
    "for id in id_empleado:\n",
    "    indice = 0\n",
    "    while indice < len(empleados):\n",
    "        if id == empleados[indice]['id']:\n",
    "            print(f\"EL nombre del empleado con el id --> {id}  es --> {empleados[indice]['nombre']}\")\n",
    "            break\n",
    "        indice += 1"
   ]
  },
  {
   "attachments": {},
   "cell_type": "markdown",
   "metadata": {},
   "source": [
    "9) Imprimir los números primos existentes entre 0 y 30"
   ]
  },
  {
   "cell_type": "code",
   "execution_count": 11,
   "metadata": {},
   "outputs": [
    {
     "name": "stdout",
     "output_type": "stream",
     "text": [
      "Cero no es Primo\n",
      "1 es Primo\n",
      "2 es Primo\n",
      "3 es Primo\n",
      "4 no es Primo\n",
      "5 es Primo\n",
      "6 no es Primo\n",
      "7 es Primo\n",
      "8 no es Primo\n",
      "9 no es Primo\n",
      "10 no es Primo\n",
      "11 es Primo\n",
      "12 no es Primo\n",
      "13 es Primo\n",
      "14 no es Primo\n",
      "15 no es Primo\n",
      "16 no es Primo\n",
      "17 es Primo\n",
      "18 no es Primo\n",
      "19 es Primo\n",
      "20 no es Primo\n",
      "21 no es Primo\n",
      "22 no es Primo\n",
      "23 es Primo\n",
      "24 no es Primo\n",
      "25 es Primo\n",
      "26 no es Primo\n",
      "27 no es Primo\n",
      "28 no es Primo\n",
      "29 es Primo\n",
      "30 no es Primo\n"
     ]
    }
   ],
   "source": [
    "for i in range(31):\n",
    "    if i == 0: \n",
    "        print('Cero no es Primo')\n",
    "        continue\n",
    "    if i <=  3:\n",
    "        print(f'{i} es Primo') \n",
    "        continue\n",
    "    if i%2 ==0 or i%3 ==0:\n",
    "        print(f'{i} no es Primo')\n",
    "    else: print(f'{i} es Primo')    \n",
    "         "
   ]
  },
  {
   "attachments": {},
   "cell_type": "markdown",
   "metadata": {},
   "source": [
    "10) ¿Se puede mejorar el proceso del punto 9? Utilizar las sentencias break y/ó continue para tal fin"
   ]
  },
  {
   "cell_type": "code",
   "execution_count": 19,
   "metadata": {},
   "outputs": [
    {
     "name": "stdout",
     "output_type": "stream",
     "text": [
      "1 es Primo\n",
      "2 es Primo\n",
      "3 es Primo\n",
      "5 es Primo\n",
      "7 es Primo\n",
      "11 es Primo\n",
      "13 es Primo\n",
      "17 es Primo\n",
      "19 es Primo\n",
      "23 es Primo\n",
      "25 es Primo\n",
      "29 es Primo\n"
     ]
    }
   ],
   "source": [
    "#Imprimiendo Solo los Primos\n",
    "for i in range(31):\n",
    "    if i == 0: continue\n",
    "    if i > 0 and i<4:\n",
    "        print(f'{i} es Primo')\n",
    "        continue\n",
    "    if i%2 != 0 and i%3 != 0:\n",
    "        print(f'{i} es Primo')"
   ]
  },
  {
   "attachments": {},
   "cell_type": "markdown",
   "metadata": {},
   "source": [
    "11) En los puntos 9 y 10, se diseño un código que encuentra números primos y además se lo optimizó. ¿Es posible saber en qué medida se optimizó?"
   ]
  },
  {
   "cell_type": "code",
   "execution_count": null,
   "metadata": {},
   "outputs": [],
   "source": [
    "# En el Punto 9 del Ejercicio Imprimi todos los numeros del listado diciendo cuales eran o no primos\n",
    "# En el punto 10 Solo imprimi los primos"
   ]
  },
  {
   "attachments": {},
   "cell_type": "markdown",
   "metadata": {},
   "source": [
    "12) Aplicando continue, armar un ciclo while que solo imprima los valores divisibles por 12, dentro del rango de números de 100 a 300"
   ]
  },
  {
   "cell_type": "code",
   "execution_count": 21,
   "metadata": {},
   "outputs": [
    {
     "name": "stdout",
     "output_type": "stream",
     "text": [
      "108 es multiplo de 12\n",
      "120 es multiplo de 12\n",
      "132 es multiplo de 12\n",
      "144 es multiplo de 12\n",
      "156 es multiplo de 12\n",
      "168 es multiplo de 12\n",
      "180 es multiplo de 12\n",
      "192 es multiplo de 12\n",
      "204 es multiplo de 12\n",
      "216 es multiplo de 12\n",
      "228 es multiplo de 12\n",
      "240 es multiplo de 12\n",
      "252 es multiplo de 12\n",
      "264 es multiplo de 12\n",
      "276 es multiplo de 12\n",
      "288 es multiplo de 12\n",
      "300 es multiplo de 12\n"
     ]
    }
   ],
   "source": [
    "indice = 99\n",
    "while indice < 300:\n",
    "    indice = indice + 1 \n",
    "    if indice %12 == 0: \n",
    "        print(f'{indice} es multiplo de 12')\n",
    "        continue   # Para este caso Caso No le veo sentido al continue. Obligó a iniciar el indice en 99 lo que lo hace menos Legible para otro programador \n",
    "                   # y la condicion de While hacerla menor a 300.  Pienso que le continue en este caso va en contra\n",
    "                   # de la filosofia ZEN\n",
    "                   # Como Ejercicio Practico forza a pensar como emplear el continue. Lo que obliga a aumentar el contador \n",
    "                   # al principio para evitar caer en un ciclo infinito "
   ]
  },
  {
   "attachments": {},
   "cell_type": "markdown",
   "metadata": {},
   "source": [
    "13) Utilizar la función **input()** que permite hacer ingresos por teclado, para encontrar números primos y dar la opción al usario de buscar el siguiente"
   ]
  },
  {
   "cell_type": "code",
   "execution_count": 15,
   "metadata": {},
   "outputs": [
    {
     "name": "stdout",
     "output_type": "stream",
     "text": [
      "Este ejercicio requiere de un numero entero\n"
     ]
    }
   ],
   "source": [
    "# Usuario Ingresara un Numero y Se le diran uno a uno los primos que hay hasta ese numero, Preguntandole al usuario en cada hallazgo si desea continuar\n",
    "limite:int = 0\n",
    "try:\n",
    "    limite = int(input ('Ingresa el  numero ENTERO mayor a 0, hasta donde quiere obtener los numeros primos: '))\n",
    "except:\n",
    "    print('Este ejercicio requiere de un numero entero')\n",
    "indice = 1\n",
    "continuar = 'S'\n",
    "encontro =False\n",
    "encontrados = 0\n",
    "while indice <= limite and continuar.upper().strip() == 'S':\n",
    "    if indice <= 3 or (indice > 3 and indice%2 !=0 and indice%3 !=0):\n",
    "        encontro = True\n",
    "        encontrados += 1\n",
    "        print(f'El numero {encontrados} primo de su lista es {indice} ')\n",
    "    \n",
    "    if encontro: \n",
    "        continuar = input('Desea continuar (s/n): ')\n",
    "        encontro = False\n",
    "    indice += 1\n"
   ]
  },
  {
   "attachments": {},
   "cell_type": "markdown",
   "metadata": {},
   "source": [
    "14) Crear un ciclo while que encuentre dentro del rango de 100 a 300 el primer número divisible por 3 y además múltiplo de 6"
   ]
  },
  {
   "cell_type": "code",
   "execution_count": 23,
   "metadata": {},
   "outputs": [
    {
     "name": "stdout",
     "output_type": "stream",
     "text": [
      "102 es multiplo de 3 y de 6\n"
     ]
    }
   ],
   "source": [
    "primera_vez = False\n",
    "indice = 100\n",
    "encontro = False\n",
    "while primera_vez or indice < 301:\n",
    "    primera_vez = False\n",
    "    if indice %3 == 0 and indice %6 ==0:\n",
    "        encontro = True\n",
    "        print(f'{indice} es multiplo de 3 y de 6')\n",
    "        break\n",
    "    indice += 1\n",
    "if not encontro: print('No se encontraron multiplos de 3 y de 6')  # En este Caso la Variable encontro y esta Linea de codigo\n",
    "                                                                   # Son redundantes porque entre 100 y 300 sobran multiplos de 3 y 6\n",
    "                                                                   # Estructuro asi el ejercicio por si hay que modificarlo para \n",
    "                                                                   # otros casos donde los valores del rango sean introducidos por teclado"
   ]
  }
 ],
 "metadata": {
  "interpreter": {
   "hash": "c85384e4cb51c8b72350f3a8712cc8351fdc3955e32a27f9b60c6242ab125f01"
  },
  "kernelspec": {
   "display_name": "Python 3 (ipykernel)",
   "language": "python",
   "name": "python3"
  },
  "language_info": {
   "codemirror_mode": {
    "name": "ipython",
    "version": 3
   },
   "file_extension": ".py",
   "mimetype": "text/x-python",
   "name": "python",
   "nbconvert_exporter": "python",
   "pygments_lexer": "ipython3",
   "version": "3.10.11"
  }
 },
 "nbformat": 4,
 "nbformat_minor": 4
}
