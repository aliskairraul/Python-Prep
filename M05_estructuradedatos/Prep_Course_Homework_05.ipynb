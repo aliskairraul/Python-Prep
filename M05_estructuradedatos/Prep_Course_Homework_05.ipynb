{
 "cells": [
  {
   "attachments": {},
   "cell_type": "markdown",
   "metadata": {},
   "source": [
    "## Estructuras de Datos"
   ]
  },
  {
   "attachments": {},
   "cell_type": "markdown",
   "metadata": {},
   "source": [
    "1) Crear una lista que contenga nombres de ciudades del mundo que contenga más de 5 elementos e imprimir por pantalla"
   ]
  },
  {
   "cell_type": "code",
   "execution_count": 1,
   "metadata": {},
   "outputs": [
    {
     "name": "stdout",
     "output_type": "stream",
     "text": [
      "['Madrid', 'Bogota', 'Buenos Aires', 'Caracas', 'New York', 'Lima', 'Santiago', 'Londres']\n"
     ]
    }
   ],
   "source": [
    "lista_ciudades = ['Madrid', 'Bogota', 'Buenos Aires', 'Caracas', 'New York', 'Lima', 'Santiago', 'Londres']\n",
    "print(lista_ciudades)"
   ]
  },
  {
   "attachments": {},
   "cell_type": "markdown",
   "metadata": {},
   "source": [
    "2) Imprimir por pantalla el segundo elemento de la lista"
   ]
  },
  {
   "cell_type": "code",
   "execution_count": 2,
   "metadata": {},
   "outputs": [
    {
     "name": "stdout",
     "output_type": "stream",
     "text": [
      "Bogota\n"
     ]
    }
   ],
   "source": [
    "print(lista_ciudades[1])"
   ]
  },
  {
   "attachments": {},
   "cell_type": "markdown",
   "metadata": {},
   "source": [
    "3) Imprimir por pantalla del segundo al cuarto elemento"
   ]
  },
  {
   "cell_type": "code",
   "execution_count": 3,
   "metadata": {},
   "outputs": [
    {
     "name": "stdout",
     "output_type": "stream",
     "text": [
      "['Bogota', 'Buenos Aires', 'Caracas']\n"
     ]
    }
   ],
   "source": [
    "print(lista_ciudades[1:4])"
   ]
  },
  {
   "attachments": {},
   "cell_type": "markdown",
   "metadata": {},
   "source": [
    "4) Visualizar el tipo de dato de la lista"
   ]
  },
  {
   "cell_type": "code",
   "execution_count": 4,
   "metadata": {},
   "outputs": [
    {
     "name": "stdout",
     "output_type": "stream",
     "text": [
      "<class 'list'>\n"
     ]
    }
   ],
   "source": [
    "print(type(lista_ciudades))"
   ]
  },
  {
   "attachments": {},
   "cell_type": "markdown",
   "metadata": {},
   "source": [
    "5) Visualizar todos los elementos de la lista a partir del tercero de manera genérica, es decir, sin explicitar la posición del último elemento"
   ]
  },
  {
   "cell_type": "code",
   "execution_count": 5,
   "metadata": {},
   "outputs": [
    {
     "name": "stdout",
     "output_type": "stream",
     "text": [
      "['Buenos Aires', 'Caracas', 'New York', 'Lima', 'Santiago', 'Londres']\n"
     ]
    }
   ],
   "source": [
    "print(lista_ciudades[2:])"
   ]
  },
  {
   "attachments": {},
   "cell_type": "markdown",
   "metadata": {},
   "source": [
    "6) Visualizar los primeros 4 elementos de la lista"
   ]
  },
  {
   "cell_type": "code",
   "execution_count": 6,
   "metadata": {},
   "outputs": [
    {
     "name": "stdout",
     "output_type": "stream",
     "text": [
      "['Madrid', 'Bogota', 'Buenos Aires', 'Caracas']\n"
     ]
    }
   ],
   "source": [
    "print(lista_ciudades[:4])"
   ]
  },
  {
   "attachments": {},
   "cell_type": "markdown",
   "metadata": {},
   "source": [
    "7) Agregar una ciudad más a la lista que ya exista y otra que no ¿Arroja algún tipo de error?"
   ]
  },
  {
   "cell_type": "code",
   "execution_count": 7,
   "metadata": {},
   "outputs": [
    {
     "name": "stdout",
     "output_type": "stream",
     "text": [
      "['Madrid', 'Bogota', 'Buenos Aires', 'Caracas', 'New York', 'Lima', 'Santiago', 'Londres', 'Lima', 'Madrid']\n"
     ]
    }
   ],
   "source": [
    "\"\"\"En este caso al tratarse de Listas se pueden contener elemento repetido, a diferencia de las Tuplas y los Set\"\"\"\n",
    "lista_ciudades.append('Lima')\n",
    "lista_ciudades.append('Madrid')\n",
    "print(lista_ciudades)"
   ]
  },
  {
   "attachments": {},
   "cell_type": "markdown",
   "metadata": {},
   "source": [
    "8) Agregar otra ciudad, pero en la cuarta posición"
   ]
  },
  {
   "cell_type": "code",
   "execution_count": 8,
   "metadata": {},
   "outputs": [],
   "source": [
    "\"\"\"Recordar que la cuarta Posicion es el indice 3\"\"\"\n",
    "lista_ciudades.insert(3,'Maturin')\n"
   ]
  },
  {
   "cell_type": "code",
   "execution_count": 9,
   "metadata": {},
   "outputs": [
    {
     "name": "stdout",
     "output_type": "stream",
     "text": [
      "['Madrid', 'Bogota', 'Buenos Aires', 'Maturin', 'Caracas', 'New York', 'Lima', 'Santiago', 'Londres', 'Lima', 'Madrid']\n"
     ]
    }
   ],
   "source": [
    "print(lista_ciudades)"
   ]
  },
  {
   "attachments": {},
   "cell_type": "markdown",
   "metadata": {},
   "source": [
    "9) Concatenar otra lista a la ya creada"
   ]
  },
  {
   "cell_type": "code",
   "execution_count": 10,
   "metadata": {},
   "outputs": [
    {
     "name": "stdout",
     "output_type": "stream",
     "text": [
      "['Madrid', 'Bogota', 'Buenos Aires', 'Maturin', 'Caracas', 'New York', 'Lima', 'Santiago', 'Londres', 'Lima', 'Madrid', 'Pekin', 'Berlin', 'Roma']\n"
     ]
    }
   ],
   "source": [
    "lista_otra = ['Pekin', 'Berlin','Roma']\n",
    "lista_ciudades.extend(lista_otra)\n",
    "print(lista_ciudades)"
   ]
  },
  {
   "attachments": {},
   "cell_type": "markdown",
   "metadata": {},
   "source": [
    "10) Encontrar el índice de la ciudad que en el punto 7 agregamos duplicada. ¿Se nota alguna particularidad?"
   ]
  },
  {
   "cell_type": "code",
   "execution_count": 11,
   "metadata": {},
   "outputs": [
    {
     "name": "stdout",
     "output_type": "stream",
     "text": [
      "El indice que tiene la Cidada agregada en el punto 7 es 10 \n"
     ]
    }
   ],
   "source": [
    "\"\"\"Existe un Metodo para saber el indice de un elemento que seria lista_ciudades.index('Madrid')\n",
    "   En este caso no nos sirve dado que devuele el indice de la primera coincidencia\n",
    "   Como de la pregunta 7 hasta aca no se ha insertado otro 'Madrid',  el que buscamos\n",
    "   es el ultimo 'Madrid' que aparezca en lista_ciudades \"\"\"\n",
    "\n",
    "repetida = 'Madrid'\n",
    "for i in range (len(lista_ciudades)-1,0,-1):\n",
    "    if repetida == lista_ciudades[i]:\n",
    "        print(f'El indice que tiene la Cidada agregada en el punto 7 es {i} ')\n",
    "        break"
   ]
  },
  {
   "attachments": {},
   "cell_type": "markdown",
   "metadata": {},
   "source": [
    "11) ¿Qué pasa si se busca un elemento que no existe?"
   ]
  },
  {
   "cell_type": "code",
   "execution_count": 16,
   "metadata": {},
   "outputs": [
    {
     "ename": "ValueError",
     "evalue": "'Cali' is not in list",
     "output_type": "error",
     "traceback": [
      "\u001b[1;31m---------------------------------------------------------------------------\u001b[0m",
      "\u001b[1;31mValueError\u001b[0m                                Traceback (most recent call last)",
      "Cell \u001b[1;32mIn[16], line 1\u001b[0m\n\u001b[1;32m----> 1\u001b[0m \u001b[43mlista_ciudades\u001b[49m\u001b[38;5;241;43m.\u001b[39;49m\u001b[43mindex\u001b[49m\u001b[43m(\u001b[49m\u001b[38;5;124;43m'\u001b[39;49m\u001b[38;5;124;43mCali\u001b[39;49m\u001b[38;5;124;43m'\u001b[39;49m\u001b[43m)\u001b[49m\n",
      "\u001b[1;31mValueError\u001b[0m: 'Cali' is not in list"
     ]
    }
   ],
   "source": [
    "\"\"\"Como se observa abajo da un ValueError\"\"\"\n",
    "lista_ciudades.index('Cali')"
   ]
  },
  {
   "attachments": {},
   "cell_type": "markdown",
   "metadata": {},
   "source": [
    "12) Eliminar un elemento de la lista"
   ]
  },
  {
   "cell_type": "code",
   "execution_count": 17,
   "metadata": {},
   "outputs": [],
   "source": [
    "lista_ciudades.remove('Madrid')"
   ]
  },
  {
   "cell_type": "code",
   "execution_count": 18,
   "metadata": {},
   "outputs": [
    {
     "name": "stdout",
     "output_type": "stream",
     "text": [
      "['Bogota', 'Buenos Aires', 'Maturin', 'Caracas', 'New York', 'Lima', 'Santiago', 'Londres', 'Lima', 'Madrid', 'Pekin', 'Berlin', 'Roma']\n"
     ]
    }
   ],
   "source": [
    "print(lista_ciudades)"
   ]
  },
  {
   "attachments": {},
   "cell_type": "markdown",
   "metadata": {},
   "source": [
    "13) ¿Qué pasa si el elemento a eliminar no existe?"
   ]
  },
  {
   "cell_type": "code",
   "execution_count": 19,
   "metadata": {},
   "outputs": [
    {
     "ename": "ValueError",
     "evalue": "list.remove(x): x not in list",
     "output_type": "error",
     "traceback": [
      "\u001b[1;31m---------------------------------------------------------------------------\u001b[0m",
      "\u001b[1;31mValueError\u001b[0m                                Traceback (most recent call last)",
      "Cell \u001b[1;32mIn[19], line 1\u001b[0m\n\u001b[1;32m----> 1\u001b[0m \u001b[43mlista_ciudades\u001b[49m\u001b[38;5;241;43m.\u001b[39;49m\u001b[43mremove\u001b[49m\u001b[43m(\u001b[49m\u001b[38;5;124;43m'\u001b[39;49m\u001b[38;5;124;43mCali\u001b[39;49m\u001b[38;5;124;43m'\u001b[39;49m\u001b[43m)\u001b[49m\n",
      "\u001b[1;31mValueError\u001b[0m: list.remove(x): x not in list"
     ]
    }
   ],
   "source": [
    "\"\"\"Da el error ValueError\"\"\"\n",
    "lista_ciudades.remove('Cali')"
   ]
  },
  {
   "attachments": {},
   "cell_type": "markdown",
   "metadata": {},
   "source": [
    "14) Extraer el úlimo elemento de la lista, guardarlo en una variable e imprimirlo"
   ]
  },
  {
   "cell_type": "code",
   "execution_count": 20,
   "metadata": {},
   "outputs": [
    {
     "name": "stdout",
     "output_type": "stream",
     "text": [
      "Roma\n",
      "Roma\n"
     ]
    }
   ],
   "source": [
    "ultimo = lista_ciudades[-1]\n",
    "print(ultimo)\n",
    "ultimo_borrando = lista_ciudades.pop()\n",
    "print(ultimo_borrando)"
   ]
  },
  {
   "attachments": {},
   "cell_type": "markdown",
   "metadata": {},
   "source": [
    "15) Mostrar la lista multiplicada por 4"
   ]
  },
  {
   "cell_type": "code",
   "execution_count": 21,
   "metadata": {},
   "outputs": [
    {
     "name": "stdout",
     "output_type": "stream",
     "text": [
      "['Bogota', 'Buenos Aires', 'Maturin', 'Caracas', 'New York', 'Lima', 'Santiago', 'Londres', 'Lima', 'Madrid', 'Pekin', 'Berlin', 'Bogota', 'Buenos Aires', 'Maturin', 'Caracas', 'New York', 'Lima', 'Santiago', 'Londres', 'Lima', 'Madrid', 'Pekin', 'Berlin', 'Bogota', 'Buenos Aires', 'Maturin', 'Caracas', 'New York', 'Lima', 'Santiago', 'Londres', 'Lima', 'Madrid', 'Pekin', 'Berlin', 'Bogota', 'Buenos Aires', 'Maturin', 'Caracas', 'New York', 'Lima', 'Santiago', 'Londres', 'Lima', 'Madrid', 'Pekin', 'Berlin']\n"
     ]
    }
   ],
   "source": [
    "print(lista_ciudades*4)"
   ]
  },
  {
   "attachments": {},
   "cell_type": "markdown",
   "metadata": {},
   "source": [
    "16) Crear una tupla que contenga los números enteros del 1 al 20"
   ]
  },
  {
   "cell_type": "code",
   "execution_count": 22,
   "metadata": {},
   "outputs": [
    {
     "name": "stdout",
     "output_type": "stream",
     "text": [
      "(1, 2, 3, 4, 5, 6, 7, 8, 9, 10, 11, 12, 13, 14, 15, 16, 17, 18, 19, 20)\n"
     ]
    }
   ],
   "source": [
    "lista_aux = []\n",
    "for i in range(1,21):\n",
    "    lista_aux.append(i)\n",
    "mi_tupla = tuple(lista_aux)\n",
    "print(mi_tupla)"
   ]
  },
  {
   "attachments": {},
   "cell_type": "markdown",
   "metadata": {},
   "source": [
    "17) Imprimir desde el índice 10 al 15 de la tupla"
   ]
  },
  {
   "cell_type": "code",
   "execution_count": 23,
   "metadata": {},
   "outputs": [
    {
     "name": "stdout",
     "output_type": "stream",
     "text": [
      "(11, 12, 13, 14, 15, 16)\n",
      "(10, 11, 12, 13, 14, 15)\n"
     ]
    }
   ],
   "source": [
    "print(mi_tupla[10:16])  #Impresion del INDICE 10 al 15\n",
    "print(mi_tupla[9:15])   #Impresion de la POSICION 10 a la 15"
   ]
  },
  {
   "attachments": {},
   "cell_type": "markdown",
   "metadata": {},
   "source": [
    "18) Evaluar si los números 20 y 30 están dentro de la tupla"
   ]
  },
  {
   "cell_type": "code",
   "execution_count": 24,
   "metadata": {},
   "outputs": [
    {
     "name": "stdout",
     "output_type": "stream",
     "text": [
      "El 20 esta en la tupla\n",
      "El 30 no esta en la tupla\n"
     ]
    }
   ],
   "source": [
    "print('El 20 esta en la tupla') if 20 in mi_tupla else print('El 20 no esta en la tupla') #Evalua al 20\n",
    "print('El 30 esta en la tupla') if 30 in mi_tupla else print('El 30 no esta en la tupla') #Evalua al 30"
   ]
  },
  {
   "attachments": {},
   "cell_type": "markdown",
   "metadata": {},
   "source": [
    "19) Con la lista creada en el punto 1, validar la existencia del elemento 'París' y si no existe, agregarlo. Utilizar una variable e informar lo sucedido."
   ]
  },
  {
   "cell_type": "code",
   "execution_count": 25,
   "metadata": {},
   "outputs": [
    {
     "name": "stdout",
     "output_type": "stream",
     "text": [
      "Se añadió  París a la lista\n"
     ]
    }
   ],
   "source": [
    "nueva_ciudad = 'París'\n",
    "if nueva_ciudad in lista_ciudades:\n",
    "    print(f'La ciudad de {nueva_ciudad} ya esta incluida')\n",
    "else:\n",
    "    lista_ciudades.append(nueva_ciudad)\n",
    "    print(f'Se añadió  {nueva_ciudad} a la lista')\n"
   ]
  },
  {
   "attachments": {},
   "cell_type": "markdown",
   "metadata": {},
   "source": [
    "20) Mostrar la cantidad de veces que se encuentra un elemento específico dentro de la tupla y de la lista"
   ]
  },
  {
   "cell_type": "code",
   "execution_count": 33,
   "metadata": {},
   "outputs": [
    {
     "name": "stdout",
     "output_type": "stream",
     "text": [
      "3\n",
      "0\n"
     ]
    }
   ],
   "source": [
    "mi_tupla = (1,4,2,6,2,8,3,8,6,2,7,9)\n",
    "a_buscar = 2\n",
    "print(mi_tupla.count(a_buscar))\n",
    "\n",
    "print(lista_ciudades.count('Cali'))"
   ]
  },
  {
   "attachments": {},
   "cell_type": "markdown",
   "metadata": {},
   "source": [
    "21) Convertir la tupla en una lista"
   ]
  },
  {
   "cell_type": "code",
   "execution_count": 27,
   "metadata": {},
   "outputs": [
    {
     "name": "stdout",
     "output_type": "stream",
     "text": [
      "[1, 4, 2, 6, 2, 8, 3, 8, 6, 2, 7, 9]\n"
     ]
    }
   ],
   "source": [
    "lista_casteada = list(mi_tupla)\n",
    "print(lista_casteada)"
   ]
  },
  {
   "attachments": {},
   "cell_type": "markdown",
   "metadata": {},
   "source": [
    "22) Desempaquetar solo los primeros 3 elementos de la tupla en 3 variables"
   ]
  },
  {
   "cell_type": "code",
   "execution_count": 28,
   "metadata": {},
   "outputs": [
    {
     "name": "stdout",
     "output_type": "stream",
     "text": [
      "1\n",
      "4\n",
      "2\n"
     ]
    }
   ],
   "source": [
    "x,y,z, *_ = mi_tupla \n",
    "print(x)\n",
    "print(y)\n",
    "print(z)"
   ]
  },
  {
   "attachments": {},
   "cell_type": "markdown",
   "metadata": {},
   "source": [
    "23) Crear un diccionario utilizando la lista crada en el punto 1, asignandole la clave \"ciudad\". Agregar tambien otras claves, como puede ser \"Pais\" y \"Continente\"."
   ]
  },
  {
   "cell_type": "code",
   "execution_count": 29,
   "metadata": {},
   "outputs": [
    {
     "name": "stdout",
     "output_type": "stream",
     "text": [
      "{'ciudades': ['Madrid', 'Bogota', 'Buenos Aires', 'Caracas', 'New York', 'Lima', 'Santiago', 'Londres'], 'paises': ['España', 'Colombia', 'Argentina', 'Venezuela', 'EEUU', 'Perú', 'Chile', 'Inglaterra'], 'continentes': ['Europa', 'America', 'America', 'America', 'America', 'America', 'America', 'Europa']}\n"
     ]
    }
   ],
   "source": [
    "lista_ciudades = ['Madrid', 'Bogota', 'Buenos Aires', 'Caracas', 'New York', 'Lima', 'Santiago', 'Londres']\n",
    "lista_paises = ['España', 'Colombia', 'Argentina', 'Venezuela', 'EEUU', 'Perú', 'Chile', 'Inglaterra']\n",
    "lista_continentes = ['Europa', 'America', 'America', 'America', 'America', 'America', 'America','Europa']\n",
    "mi_diccionario = {'ciudades': lista_ciudades, 'paises':lista_paises, 'continentes':lista_continentes}\n",
    "print(mi_diccionario)"
   ]
  },
  {
   "cell_type": "code",
   "execution_count": 30,
   "metadata": {},
   "outputs": [
    {
     "name": "stdout",
     "output_type": "stream",
     "text": [
      "[{'ciudad': 'Madrid', 'pais': 'España', 'continente': 'Europa'}, {'ciudad': 'Bogota', 'pais': 'Colombia', 'continente': 'America'}, {'ciudad': 'Buenos Aires', 'pais': 'Argentina', 'continente': 'America'}, {'ciudad': 'Caracas', 'pais': 'Venezuela', 'continente': 'America'}, {'ciudad': 'New York', 'pais': 'EEUU', 'continente': 'America'}, {'ciudad': 'Lima', 'pais': 'Perú', 'continente': 'America'}, {'ciudad': 'Santiago', 'pais': 'Chile', 'continente': 'America'}, {'ciudad': 'Londres', 'pais': 'Inglaterra', 'continente': 'Europa'}]\n"
     ]
    }
   ],
   "source": [
    "\"\"\"Solucion al punto anterior creando una lista de Dicionarios\"\"\"\n",
    "lista_diccionarios = []\n",
    "for i in range(len(lista_ciudades)):\n",
    "    diccionario = {'ciudad': lista_ciudades[i], 'pais': lista_paises[i], 'continente': lista_continentes[i]}\n",
    "    lista_diccionarios.append(diccionario)\n",
    "print(lista_diccionarios)"
   ]
  },
  {
   "attachments": {},
   "cell_type": "markdown",
   "metadata": {},
   "source": [
    "24) Imprimir las claves del diccionario"
   ]
  },
  {
   "cell_type": "code",
   "execution_count": 31,
   "metadata": {},
   "outputs": [
    {
     "name": "stdout",
     "output_type": "stream",
     "text": [
      "dict_keys(['ciudades', 'paises', 'continentes'])\n"
     ]
    }
   ],
   "source": [
    "print(mi_diccionario.keys())"
   ]
  },
  {
   "attachments": {},
   "cell_type": "markdown",
   "metadata": {},
   "source": [
    "25) Imprimir las ciudades a través de su clave"
   ]
  },
  {
   "cell_type": "code",
   "execution_count": 32,
   "metadata": {},
   "outputs": [
    {
     "name": "stdout",
     "output_type": "stream",
     "text": [
      "['Madrid', 'Bogota', 'Buenos Aires', 'Caracas', 'New York', 'Lima', 'Santiago', 'Londres']\n"
     ]
    }
   ],
   "source": [
    "print(mi_diccionario['ciudades'])"
   ]
  }
 ],
 "metadata": {
  "interpreter": {
   "hash": "c85384e4cb51c8b72350f3a8712cc8351fdc3955e32a27f9b60c6242ab125f01"
  },
  "kernelspec": {
   "display_name": "Python 3 (ipykernel)",
   "language": "python",
   "name": "python3"
  },
  "language_info": {
   "codemirror_mode": {
    "name": "ipython",
    "version": 3
   },
   "file_extension": ".py",
   "mimetype": "text/x-python",
   "name": "python",
   "nbconvert_exporter": "python",
   "pygments_lexer": "ipython3",
   "version": "3.10.11"
  }
 },
 "nbformat": 4,
 "nbformat_minor": 4
}
